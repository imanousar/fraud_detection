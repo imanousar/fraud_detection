{
  "nbformat": 4,
  "nbformat_minor": 0,
  "metadata": {
    "colab": {
      "provenance": []
    },
    "kernelspec": {
      "name": "python3",
      "display_name": "Python 3"
    },
    "language_info": {
      "name": "python"
    }
  },
  "cells": [
    {
      "cell_type": "code",
      "source": [
        "# import\n",
        "from google.colab import drive\n",
        "drive.mount(\"/content/gdrive\")"
      ],
      "metadata": {
        "colab": {
          "base_uri": "https://localhost:8080/"
        },
        "id": "gWij2R0WVJWU",
        "outputId": "422ed0dc-4367-40be-e13c-fa6ecb572930"
      },
      "execution_count": null,
      "outputs": [
        {
          "output_type": "stream",
          "name": "stdout",
          "text": [
            "Drive already mounted at /content/gdrive; to attempt to forcibly remount, call drive.mount(\"/content/gdrive\", force_remount=True).\n"
          ]
        }
      ]
    },
    {
      "cell_type": "code",
      "source": [
        "# IMPORTS\n",
        "\n",
        "# preprocessing\n",
        "import numpy as np\n",
        "import pandas as pd\n",
        "import warnings\n",
        "warnings.filterwarnings('ignore') \n",
        "from scipy import stats\n",
        "from scipy.stats import norm\n",
        "from sklearn.preprocessing import StandardScaler\n",
        "\n",
        "\n",
        "# models\n",
        "import xgboost as xgb\n",
        "import lightgbm as lgb\n",
        "\n",
        "# sklearn\n",
        "from sklearn.ensemble import RandomForestClassifier\n",
        "from sklearn.model_selection import train_test_split, KFold, cross_val_score\n",
        "from sklearn.metrics import confusion_matrix, accuracy_score, balanced_accuracy_score"
      ],
      "metadata": {
        "colab": {
          "base_uri": "https://localhost:8080/",
          "height": 17
        },
        "id": "4ncCubWKVVBT",
        "outputId": "6ad5a444-31ee-4868-ea02-311ca1fca20c"
      },
      "execution_count": null,
      "outputs": [
        {
          "output_type": "display_data",
          "data": {
            "text/html": [
              "        <script type=\"text/javascript\">\n",
              "        window.PlotlyConfig = {MathJaxConfig: 'local'};\n",
              "        if (window.MathJax) {MathJax.Hub.Config({SVG: {font: \"STIX-Web\"}});}\n",
              "        if (typeof require !== 'undefined') {\n",
              "        require.undef(\"plotly\");\n",
              "        requirejs.config({\n",
              "            paths: {\n",
              "                'plotly': ['https://cdn.plot.ly/plotly-2.8.3.min']\n",
              "            }\n",
              "        });\n",
              "        require(['plotly'], function(Plotly) {\n",
              "            window._Plotly = Plotly;\n",
              "        });\n",
              "        }\n",
              "        </script>\n",
              "        "
            ]
          },
          "metadata": {}
        }
      ]
    },
    {
      "cell_type": "code",
      "source": [
        "train = pd.read_csv('/content/gdrive/MyDrive/vehicle/train.csv')\n",
        "test = pd.read_csv('/content/gdrive/MyDrive/vehicle/test.csv')\n",
        "train.head()"
      ],
      "metadata": {
        "colab": {
          "base_uri": "https://localhost:8080/",
          "height": 270
        },
        "id": "v0LdRqz3VQTF",
        "outputId": "0e6bc35d-920a-43d8-88e4-71323a46bbff"
      },
      "execution_count": null,
      "outputs": [
        {
          "output_type": "execute_result",
          "data": {
            "text/plain": [
              "   UNIQUEID  DISBURSED_AMOUNT  ASSET_COST    LTV  BRANCH_ID  SUPPLIER_ID  MANUFACTURER_ID  CURRENT_PINCODE_ID DATE_OF_BIRTH EMPLOYMENT_TYPE DISBURSAL_DATE  STATE_ID  EMPLOYEE_CODE_ID  MOBILENO_AVL_FLAG  AADHAR_FLAG  PAN_FLAG  VOTERID_FLAG  DRIVING_FLAG  PASSPORT_FLAG  PERFORM_CNS_SCORE PERFORM_CNS_SCORE_DESCRIPTION  PRI_NO_OF_ACCTS  PRI_ACTIVE_ACCTS  PRI_OVERDUE_ACCTS  PRI_CURRENT_BALANCE  PRI_SANCTIONED_AMOUNT  PRI_DISBURSED_AMOUNT  SEC_NO_OF_ACCTS  SEC_ACTIVE_ACCTS  SEC_OVERDUE_ACCTS  SEC_CURRENT_BALANCE  SEC_SANCTIONED_AMOUNT  SEC_DISBURSED_AMOUNT  PRIMARY_INSTAL_AMT  SEC_INSTAL_AMT  NEW_ACCTS_IN_LAST_SIX_MONTHS  DELINQUENT_ACCTS_IN_LAST_SIX_MONTHS AVERAGE_ACCT_AGE CREDIT_HISTORY_LENGTH  NO_OF_INQUIRIES  LOAN_DEFAULT\n",
              "0    420825             50578       58400  89.55         67        22807               45                1441    01-01-1984        Salaried     03-08-2018         6              1998                  1            1         0             0             0              0                  0   No Bureau History Available                0                 0                  0                    0                      0                     0                0                 0                  0                    0                      0                     0                   0               0                             0                                    0        0yrs 0mon             0yrs 0mon                0             0\n",
              "1    537409             47145       65550  73.23         67        22807               45                1502    31-07-1985   Self employed     26-09-2018         6              1998                  1            1         0             0             0              0                598                 I-Medium Risk                1                 1                  1                27600                  50200                 50200                0                 0                  0                    0                      0                     0                1991               0                             0                                    1       1yrs 11mon            1yrs 11mon                0             1\n",
              "2    417566             53278       61360  89.63         67        22807               45                1497    24-08-1985   Self employed     01-08-2018         6              1998                  1            1         0             0             0              0                  0   No Bureau History Available                0                 0                  0                    0                      0                     0                0                 0                  0                    0                      0                     0                   0               0                             0                                    0        0yrs 0mon             0yrs 0mon                0             0\n",
              "3    624493             57513       66113  88.48         67        22807               45                1501    30-12-1993   Self employed     26-10-2018         6              1998                  1            1         0             0             0              0                305              L-Very High Risk                3                 0                  0                    0                      0                     0                0                 0                  0                    0                      0                     0                  31               0                             0                                    0        0yrs 8mon             1yrs 3mon                1             1\n",
              "4    539055             52378       60300  88.39         67        22807               45                1495    09-12-1977   Self employed     26-09-2018         6              1998                  1            1         0             0             0              0                  0   No Bureau History Available                0                 0                  0                    0                      0                     0                0                 0                  0                    0                      0                     0                   0               0                             0                                    0        0yrs 0mon             0yrs 0mon                1             1"
            ],
            "text/html": [
              "\n",
              "  <div id=\"df-6eb48bf5-fb27-4518-8cbe-29cec53b12e3\">\n",
              "    <div class=\"colab-df-container\">\n",
              "      <div>\n",
              "<style scoped>\n",
              "    .dataframe tbody tr th:only-of-type {\n",
              "        vertical-align: middle;\n",
              "    }\n",
              "\n",
              "    .dataframe tbody tr th {\n",
              "        vertical-align: top;\n",
              "    }\n",
              "\n",
              "    .dataframe thead th {\n",
              "        text-align: right;\n",
              "    }\n",
              "</style>\n",
              "<table border=\"1\" class=\"dataframe\">\n",
              "  <thead>\n",
              "    <tr style=\"text-align: right;\">\n",
              "      <th></th>\n",
              "      <th>UNIQUEID</th>\n",
              "      <th>DISBURSED_AMOUNT</th>\n",
              "      <th>ASSET_COST</th>\n",
              "      <th>LTV</th>\n",
              "      <th>BRANCH_ID</th>\n",
              "      <th>SUPPLIER_ID</th>\n",
              "      <th>MANUFACTURER_ID</th>\n",
              "      <th>CURRENT_PINCODE_ID</th>\n",
              "      <th>DATE_OF_BIRTH</th>\n",
              "      <th>EMPLOYMENT_TYPE</th>\n",
              "      <th>DISBURSAL_DATE</th>\n",
              "      <th>STATE_ID</th>\n",
              "      <th>EMPLOYEE_CODE_ID</th>\n",
              "      <th>MOBILENO_AVL_FLAG</th>\n",
              "      <th>AADHAR_FLAG</th>\n",
              "      <th>PAN_FLAG</th>\n",
              "      <th>VOTERID_FLAG</th>\n",
              "      <th>DRIVING_FLAG</th>\n",
              "      <th>PASSPORT_FLAG</th>\n",
              "      <th>PERFORM_CNS_SCORE</th>\n",
              "      <th>PERFORM_CNS_SCORE_DESCRIPTION</th>\n",
              "      <th>PRI_NO_OF_ACCTS</th>\n",
              "      <th>PRI_ACTIVE_ACCTS</th>\n",
              "      <th>PRI_OVERDUE_ACCTS</th>\n",
              "      <th>PRI_CURRENT_BALANCE</th>\n",
              "      <th>PRI_SANCTIONED_AMOUNT</th>\n",
              "      <th>PRI_DISBURSED_AMOUNT</th>\n",
              "      <th>SEC_NO_OF_ACCTS</th>\n",
              "      <th>SEC_ACTIVE_ACCTS</th>\n",
              "      <th>SEC_OVERDUE_ACCTS</th>\n",
              "      <th>SEC_CURRENT_BALANCE</th>\n",
              "      <th>SEC_SANCTIONED_AMOUNT</th>\n",
              "      <th>SEC_DISBURSED_AMOUNT</th>\n",
              "      <th>PRIMARY_INSTAL_AMT</th>\n",
              "      <th>SEC_INSTAL_AMT</th>\n",
              "      <th>NEW_ACCTS_IN_LAST_SIX_MONTHS</th>\n",
              "      <th>DELINQUENT_ACCTS_IN_LAST_SIX_MONTHS</th>\n",
              "      <th>AVERAGE_ACCT_AGE</th>\n",
              "      <th>CREDIT_HISTORY_LENGTH</th>\n",
              "      <th>NO_OF_INQUIRIES</th>\n",
              "      <th>LOAN_DEFAULT</th>\n",
              "    </tr>\n",
              "  </thead>\n",
              "  <tbody>\n",
              "    <tr>\n",
              "      <th>0</th>\n",
              "      <td>420825</td>\n",
              "      <td>50578</td>\n",
              "      <td>58400</td>\n",
              "      <td>89.55</td>\n",
              "      <td>67</td>\n",
              "      <td>22807</td>\n",
              "      <td>45</td>\n",
              "      <td>1441</td>\n",
              "      <td>01-01-1984</td>\n",
              "      <td>Salaried</td>\n",
              "      <td>03-08-2018</td>\n",
              "      <td>6</td>\n",
              "      <td>1998</td>\n",
              "      <td>1</td>\n",
              "      <td>1</td>\n",
              "      <td>0</td>\n",
              "      <td>0</td>\n",
              "      <td>0</td>\n",
              "      <td>0</td>\n",
              "      <td>0</td>\n",
              "      <td>No Bureau History Available</td>\n",
              "      <td>0</td>\n",
              "      <td>0</td>\n",
              "      <td>0</td>\n",
              "      <td>0</td>\n",
              "      <td>0</td>\n",
              "      <td>0</td>\n",
              "      <td>0</td>\n",
              "      <td>0</td>\n",
              "      <td>0</td>\n",
              "      <td>0</td>\n",
              "      <td>0</td>\n",
              "      <td>0</td>\n",
              "      <td>0</td>\n",
              "      <td>0</td>\n",
              "      <td>0</td>\n",
              "      <td>0</td>\n",
              "      <td>0yrs 0mon</td>\n",
              "      <td>0yrs 0mon</td>\n",
              "      <td>0</td>\n",
              "      <td>0</td>\n",
              "    </tr>\n",
              "    <tr>\n",
              "      <th>1</th>\n",
              "      <td>537409</td>\n",
              "      <td>47145</td>\n",
              "      <td>65550</td>\n",
              "      <td>73.23</td>\n",
              "      <td>67</td>\n",
              "      <td>22807</td>\n",
              "      <td>45</td>\n",
              "      <td>1502</td>\n",
              "      <td>31-07-1985</td>\n",
              "      <td>Self employed</td>\n",
              "      <td>26-09-2018</td>\n",
              "      <td>6</td>\n",
              "      <td>1998</td>\n",
              "      <td>1</td>\n",
              "      <td>1</td>\n",
              "      <td>0</td>\n",
              "      <td>0</td>\n",
              "      <td>0</td>\n",
              "      <td>0</td>\n",
              "      <td>598</td>\n",
              "      <td>I-Medium Risk</td>\n",
              "      <td>1</td>\n",
              "      <td>1</td>\n",
              "      <td>1</td>\n",
              "      <td>27600</td>\n",
              "      <td>50200</td>\n",
              "      <td>50200</td>\n",
              "      <td>0</td>\n",
              "      <td>0</td>\n",
              "      <td>0</td>\n",
              "      <td>0</td>\n",
              "      <td>0</td>\n",
              "      <td>0</td>\n",
              "      <td>1991</td>\n",
              "      <td>0</td>\n",
              "      <td>0</td>\n",
              "      <td>1</td>\n",
              "      <td>1yrs 11mon</td>\n",
              "      <td>1yrs 11mon</td>\n",
              "      <td>0</td>\n",
              "      <td>1</td>\n",
              "    </tr>\n",
              "    <tr>\n",
              "      <th>2</th>\n",
              "      <td>417566</td>\n",
              "      <td>53278</td>\n",
              "      <td>61360</td>\n",
              "      <td>89.63</td>\n",
              "      <td>67</td>\n",
              "      <td>22807</td>\n",
              "      <td>45</td>\n",
              "      <td>1497</td>\n",
              "      <td>24-08-1985</td>\n",
              "      <td>Self employed</td>\n",
              "      <td>01-08-2018</td>\n",
              "      <td>6</td>\n",
              "      <td>1998</td>\n",
              "      <td>1</td>\n",
              "      <td>1</td>\n",
              "      <td>0</td>\n",
              "      <td>0</td>\n",
              "      <td>0</td>\n",
              "      <td>0</td>\n",
              "      <td>0</td>\n",
              "      <td>No Bureau History Available</td>\n",
              "      <td>0</td>\n",
              "      <td>0</td>\n",
              "      <td>0</td>\n",
              "      <td>0</td>\n",
              "      <td>0</td>\n",
              "      <td>0</td>\n",
              "      <td>0</td>\n",
              "      <td>0</td>\n",
              "      <td>0</td>\n",
              "      <td>0</td>\n",
              "      <td>0</td>\n",
              "      <td>0</td>\n",
              "      <td>0</td>\n",
              "      <td>0</td>\n",
              "      <td>0</td>\n",
              "      <td>0</td>\n",
              "      <td>0yrs 0mon</td>\n",
              "      <td>0yrs 0mon</td>\n",
              "      <td>0</td>\n",
              "      <td>0</td>\n",
              "    </tr>\n",
              "    <tr>\n",
              "      <th>3</th>\n",
              "      <td>624493</td>\n",
              "      <td>57513</td>\n",
              "      <td>66113</td>\n",
              "      <td>88.48</td>\n",
              "      <td>67</td>\n",
              "      <td>22807</td>\n",
              "      <td>45</td>\n",
              "      <td>1501</td>\n",
              "      <td>30-12-1993</td>\n",
              "      <td>Self employed</td>\n",
              "      <td>26-10-2018</td>\n",
              "      <td>6</td>\n",
              "      <td>1998</td>\n",
              "      <td>1</td>\n",
              "      <td>1</td>\n",
              "      <td>0</td>\n",
              "      <td>0</td>\n",
              "      <td>0</td>\n",
              "      <td>0</td>\n",
              "      <td>305</td>\n",
              "      <td>L-Very High Risk</td>\n",
              "      <td>3</td>\n",
              "      <td>0</td>\n",
              "      <td>0</td>\n",
              "      <td>0</td>\n",
              "      <td>0</td>\n",
              "      <td>0</td>\n",
              "      <td>0</td>\n",
              "      <td>0</td>\n",
              "      <td>0</td>\n",
              "      <td>0</td>\n",
              "      <td>0</td>\n",
              "      <td>0</td>\n",
              "      <td>31</td>\n",
              "      <td>0</td>\n",
              "      <td>0</td>\n",
              "      <td>0</td>\n",
              "      <td>0yrs 8mon</td>\n",
              "      <td>1yrs 3mon</td>\n",
              "      <td>1</td>\n",
              "      <td>1</td>\n",
              "    </tr>\n",
              "    <tr>\n",
              "      <th>4</th>\n",
              "      <td>539055</td>\n",
              "      <td>52378</td>\n",
              "      <td>60300</td>\n",
              "      <td>88.39</td>\n",
              "      <td>67</td>\n",
              "      <td>22807</td>\n",
              "      <td>45</td>\n",
              "      <td>1495</td>\n",
              "      <td>09-12-1977</td>\n",
              "      <td>Self employed</td>\n",
              "      <td>26-09-2018</td>\n",
              "      <td>6</td>\n",
              "      <td>1998</td>\n",
              "      <td>1</td>\n",
              "      <td>1</td>\n",
              "      <td>0</td>\n",
              "      <td>0</td>\n",
              "      <td>0</td>\n",
              "      <td>0</td>\n",
              "      <td>0</td>\n",
              "      <td>No Bureau History Available</td>\n",
              "      <td>0</td>\n",
              "      <td>0</td>\n",
              "      <td>0</td>\n",
              "      <td>0</td>\n",
              "      <td>0</td>\n",
              "      <td>0</td>\n",
              "      <td>0</td>\n",
              "      <td>0</td>\n",
              "      <td>0</td>\n",
              "      <td>0</td>\n",
              "      <td>0</td>\n",
              "      <td>0</td>\n",
              "      <td>0</td>\n",
              "      <td>0</td>\n",
              "      <td>0</td>\n",
              "      <td>0</td>\n",
              "      <td>0yrs 0mon</td>\n",
              "      <td>0yrs 0mon</td>\n",
              "      <td>1</td>\n",
              "      <td>1</td>\n",
              "    </tr>\n",
              "  </tbody>\n",
              "</table>\n",
              "</div>\n",
              "      <button class=\"colab-df-convert\" onclick=\"convertToInteractive('df-6eb48bf5-fb27-4518-8cbe-29cec53b12e3')\"\n",
              "              title=\"Convert this dataframe to an interactive table.\"\n",
              "              style=\"display:none;\">\n",
              "        \n",
              "  <svg xmlns=\"http://www.w3.org/2000/svg\" height=\"24px\"viewBox=\"0 0 24 24\"\n",
              "       width=\"24px\">\n",
              "    <path d=\"M0 0h24v24H0V0z\" fill=\"none\"/>\n",
              "    <path d=\"M18.56 5.44l.94 2.06.94-2.06 2.06-.94-2.06-.94-.94-2.06-.94 2.06-2.06.94zm-11 1L8.5 8.5l.94-2.06 2.06-.94-2.06-.94L8.5 2.5l-.94 2.06-2.06.94zm10 10l.94 2.06.94-2.06 2.06-.94-2.06-.94-.94-2.06-.94 2.06-2.06.94z\"/><path d=\"M17.41 7.96l-1.37-1.37c-.4-.4-.92-.59-1.43-.59-.52 0-1.04.2-1.43.59L10.3 9.45l-7.72 7.72c-.78.78-.78 2.05 0 2.83L4 21.41c.39.39.9.59 1.41.59.51 0 1.02-.2 1.41-.59l7.78-7.78 2.81-2.81c.8-.78.8-2.07 0-2.86zM5.41 20L4 18.59l7.72-7.72 1.47 1.35L5.41 20z\"/>\n",
              "  </svg>\n",
              "      </button>\n",
              "      \n",
              "  <style>\n",
              "    .colab-df-container {\n",
              "      display:flex;\n",
              "      flex-wrap:wrap;\n",
              "      gap: 12px;\n",
              "    }\n",
              "\n",
              "    .colab-df-convert {\n",
              "      background-color: #E8F0FE;\n",
              "      border: none;\n",
              "      border-radius: 50%;\n",
              "      cursor: pointer;\n",
              "      display: none;\n",
              "      fill: #1967D2;\n",
              "      height: 32px;\n",
              "      padding: 0 0 0 0;\n",
              "      width: 32px;\n",
              "    }\n",
              "\n",
              "    .colab-df-convert:hover {\n",
              "      background-color: #E2EBFA;\n",
              "      box-shadow: 0px 1px 2px rgba(60, 64, 67, 0.3), 0px 1px 3px 1px rgba(60, 64, 67, 0.15);\n",
              "      fill: #174EA6;\n",
              "    }\n",
              "\n",
              "    [theme=dark] .colab-df-convert {\n",
              "      background-color: #3B4455;\n",
              "      fill: #D2E3FC;\n",
              "    }\n",
              "\n",
              "    [theme=dark] .colab-df-convert:hover {\n",
              "      background-color: #434B5C;\n",
              "      box-shadow: 0px 1px 3px 1px rgba(0, 0, 0, 0.15);\n",
              "      filter: drop-shadow(0px 1px 2px rgba(0, 0, 0, 0.3));\n",
              "      fill: #FFFFFF;\n",
              "    }\n",
              "  </style>\n",
              "\n",
              "      <script>\n",
              "        const buttonEl =\n",
              "          document.querySelector('#df-6eb48bf5-fb27-4518-8cbe-29cec53b12e3 button.colab-df-convert');\n",
              "        buttonEl.style.display =\n",
              "          google.colab.kernel.accessAllowed ? 'block' : 'none';\n",
              "\n",
              "        async function convertToInteractive(key) {\n",
              "          const element = document.querySelector('#df-6eb48bf5-fb27-4518-8cbe-29cec53b12e3');\n",
              "          const dataTable =\n",
              "            await google.colab.kernel.invokeFunction('convertToInteractive',\n",
              "                                                     [key], {});\n",
              "          if (!dataTable) return;\n",
              "\n",
              "          const docLinkHtml = 'Like what you see? Visit the ' +\n",
              "            '<a target=\"_blank\" href=https://colab.research.google.com/notebooks/data_table.ipynb>data table notebook</a>'\n",
              "            + ' to learn more about interactive tables.';\n",
              "          element.innerHTML = '';\n",
              "          dataTable['output_type'] = 'display_data';\n",
              "          await google.colab.output.renderOutput(dataTable, element);\n",
              "          const docLink = document.createElement('div');\n",
              "          docLink.innerHTML = docLinkHtml;\n",
              "          element.appendChild(docLink);\n",
              "        }\n",
              "      </script>\n",
              "    </div>\n",
              "  </div>\n",
              "  "
            ]
          },
          "metadata": {},
          "execution_count": 163
        }
      ]
    },
    {
      "cell_type": "markdown",
      "source": [
        "# PREPROCESSING"
      ],
      "metadata": {
        "id": "xvQjuzwdakat"
      }
    },
    {
      "cell_type": "markdown",
      "source": [
        "Missing values Interpolation"
      ],
      "metadata": {
        "id": "9vEkVvgjcUGq"
      }
    },
    {
      "cell_type": "code",
      "source": [
        "train.isna().sum().unique()"
      ],
      "metadata": {
        "id": "LXrXTjeLaMdK"
      },
      "execution_count": null,
      "outputs": []
    },
    {
      "cell_type": "code",
      "source": [
        "train.EMPLOYMENT_TYPE = train.EMPLOYMENT_TYPE.fillna(\"Missing\")\n",
        "test.EMPLOYMENT_TYPE = test.EMPLOYMENT_TYPE.fillna(\"Missing\")\n",
        "train_null_unique = train.EMPLOYMENT_TYPE.unique()\n",
        "test_null_unique = test.EMPLOYMENT_TYPE.unique()"
      ],
      "metadata": {
        "id": "ZkcVNyCQcVk_"
      },
      "execution_count": null,
      "outputs": []
    },
    {
      "cell_type": "markdown",
      "source": [
        "Transformation of some columns"
      ],
      "metadata": {
        "id": "RlUKNnqTaanm"
      }
    },
    {
      "cell_type": "code",
      "source": [
        "# Transofmation of AVERAGE_ACCT_AGE & CREDIT_HISTORY_LENGTH on train and test datasets:\n",
        "\n",
        "train[['AVERAGE_ACCT_Yr','AVERAGE_ACCT_Month']] = train['AVERAGE_ACCT_AGE'].str.split(\"yrs\",expand=True)\n",
        "train[['AVERAGE_ACCT_Month','AVERAGE_ACCT_Month1']] = train['AVERAGE_ACCT_Month'].str.split(\"mon\",expand=True)\n",
        "train[\"AVERAGE_ACCT_AGE\"] = train[\"AVERAGE_ACCT_Yr\"].astype(str).astype(int)+((train[\"AVERAGE_ACCT_Month\"].astype(str).astype(int))/12)\n",
        "train= train.drop(columns=[\"AVERAGE_ACCT_Yr\",\"AVERAGE_ACCT_Month\",'AVERAGE_ACCT_Month1'])\n",
        "\n",
        "test[['AVERAGE_ACCT_Yr','AVERAGE_ACCT_Month']] = test['AVERAGE_ACCT_AGE'].str.split(\"yrs\",expand=True)\n",
        "test[['AVERAGE_ACCT_Month','AVERAGE_ACCT_Month1']] = test['AVERAGE_ACCT_Month'].str.split(\"mon\",expand=True)\n",
        "test[\"AVERAGE_ACCT_AGE\"]= test[\"AVERAGE_ACCT_Yr\"].astype(str).astype(int)+((test[\"AVERAGE_ACCT_Month\"].astype(str).astype(int))/12)\n",
        "test= test.drop(columns= [\"AVERAGE_ACCT_Yr\",\"AVERAGE_ACCT_Month\",'AVERAGE_ACCT_Month1'])\n",
        "\n",
        "train[['CREDIT_HISTORY_LENGTH_Yr','CREDIT_HISTORY_LENGTH_Month']] = train['CREDIT_HISTORY_LENGTH'].str.split(\"yrs\",expand=True)\n",
        "train[['CREDIT_HISTORY_LENGTH_Month','CREDIT_HISTORY_LENGTH_Month1']] = train['CREDIT_HISTORY_LENGTH_Month'].str.split(\"mon\",expand=True)\n",
        "train[\"CREDIT_HISTORY_LENGTH\"]= train[\"CREDIT_HISTORY_LENGTH_Yr\"].astype(str).astype(int)+((train[\"CREDIT_HISTORY_LENGTH_Month\"].astype(str).astype(int))/12)\n",
        "train= train.drop(columns= [\"CREDIT_HISTORY_LENGTH_Yr\",\"CREDIT_HISTORY_LENGTH_Month\",'CREDIT_HISTORY_LENGTH_Month1'])\n",
        "\n",
        "test[['CREDIT_HISTORY_LENGTH_Yr','CREDIT_HISTORY_LENGTH_Month']] = test['CREDIT_HISTORY_LENGTH'].str.split(\"yrs\",expand=True)\n",
        "test[['CREDIT_HISTORY_LENGTH_Month','CREDIT_HISTORY_LENGTH_Month1']] = test['CREDIT_HISTORY_LENGTH_Month'].str.split(\"mon\",expand=True)\n",
        "test[\"CREDIT_HISTORY_LENGTH\"]= test[\"CREDIT_HISTORY_LENGTH_Yr\"].astype(str).astype(int)+((test[\"CREDIT_HISTORY_LENGTH_Month\"].astype(str).astype(int))/12)\n",
        "test= test.drop(columns= [\"CREDIT_HISTORY_LENGTH_Yr\",\"CREDIT_HISTORY_LENGTH_Month\",'CREDIT_HISTORY_LENGTH_Month1'])\n",
        "\n",
        "train['DATE_OF_BIRTH'] =  pd.to_datetime(train['DATE_OF_BIRTH'], format='%d-%m-%Y')\n",
        "test['DATE_OF_BIRTH'] =  pd.to_datetime(test['DATE_OF_BIRTH'], format='%d-%m-%Y')\n",
        "train['DISBURSAL_DATE'] =  pd.to_datetime(train['DISBURSAL_DATE'], format='%d-%m-%Y')\n",
        "test['DISBURSAL_DATE'] =  pd.to_datetime(test['DISBURSAL_DATE'], format='%d-%m-%Y')"
      ],
      "metadata": {
        "id": "WWCMpUR8WHSP"
      },
      "execution_count": null,
      "outputs": []
    },
    {
      "cell_type": "markdown",
      "source": [
        "# Outlier Detection"
      ],
      "metadata": {
        "id": "WcLd8un-a4Zc"
      }
    },
    {
      "cell_type": "code",
      "source": [
        "# number of observations in column\n",
        "obs = len(train.DISBURSED_AMOUNT)\n",
        "\n",
        "# calculate summary statistics\n",
        "data_mean, data_std = train.DISBURSED_AMOUNT.mean(), train.DISBURSED_AMOUNT.std()\n",
        "print(data_mean, data_std)\n",
        "\n",
        "# z-score\n",
        "cut_off = data_std * 3\n",
        "lower, upper = data_mean - cut_off, data_mean + cut_off\n",
        "outliers = [x for x in train.DISBURSED_AMOUNT if x < lower or x > upper]\n",
        "\n",
        "print('outliers based on z-score', len(outliers))"
      ],
      "metadata": {
        "colab": {
          "base_uri": "https://localhost:8080/"
        },
        "id": "y1vkF9XbYyws",
        "outputId": "0fddc277-3a9a-4806-be3d-896ab207b35a"
      },
      "execution_count": null,
      "outputs": [
        {
          "output_type": "stream",
          "name": "stdout",
          "text": [
            "No. of observations in column:  233154\n",
            "Statistics: Mean=54356.994, Std dev=12971.286\n",
            "Identified outliers: 3076\n"
          ]
        }
      ]
    },
    {
      "cell_type": "markdown",
      "source": [
        "Label Encoding based on quartiles"
      ],
      "metadata": {
        "id": "wM26M43fbfGs"
      }
    },
    {
      "cell_type": "code",
      "source": [
        "labels = ['Low', 'Medium', 'High', 'Extreme']\n",
        "train['DISBURSED_AMOUNT_bins'] = pd.qcut(train['DISBURSED_AMOUNT'],\n",
        "                              q=[0, .25, .5, .75, 1],\n",
        "                              labels=labels)"
      ],
      "metadata": {
        "colab": {
          "base_uri": "https://localhost:8080/"
        },
        "id": "Uj85XH04aMli",
        "outputId": "91a1ff3f-c633-4b0b-908e-8672bf62910c"
      },
      "execution_count": null,
      "outputs": [
        {
          "output_type": "execute_result",
          "data": {
            "text/plain": [
              "Medium     58676\n",
              "Low        58537\n",
              "Extreme    58207\n",
              "High       57734\n",
              "Name: DISBURSED_AMOUNT_bins, dtype: int64"
            ]
          },
          "metadata": {},
          "execution_count": 171
        }
      ]
    },
    {
      "cell_type": "code",
      "source": [
        "bin_labels = ['Low', 'Medium', 'High', 'Extreme']\n",
        "train['ASSET_COST_bins'] = pd.qcut(train['ASSET_COST'],\n",
        "                              q=[0, .25, .5, .75, 1],\n",
        "                              labels=bin_labels)"
      ],
      "metadata": {
        "id": "DvFrscaIuRgG"
      },
      "execution_count": null,
      "outputs": []
    },
    {
      "cell_type": "code",
      "source": [
        "bin_labels = ['Low', 'Medium', 'High', 'Extreme']\n",
        "train['LTV_bins'] = pd.qcut(train['LTV'],\n",
        "                              q=[0, .25, .5, .75, 1],\n",
        "                              labels=bin_labels)"
      ],
      "metadata": {
        "id": "cwrMJJpgua8l"
      },
      "execution_count": null,
      "outputs": []
    },
    {
      "cell_type": "code",
      "source": [
        "bin_labels = [\"No History\",'Very Low', \"Low\" ,'Medium', 'High']\n",
        "cut_bins = [-1,10,150, 350, 650, 1000]\n",
        "\n",
        "train['PERFORM_CNS_SCORE_bins'] = pd.cut(train['PERFORM_CNS_SCORE'],\n",
        "                              bins=cut_bins,\n",
        "                              labels=bin_labels)"
      ],
      "metadata": {
        "id": "68zMNgDcuoAI"
      },
      "execution_count": null,
      "outputs": []
    },
    {
      "cell_type": "code",
      "source": [
        "bin_labels = [\"One\",'More than One']\n",
        "cut_bins = [-1,1, 1000]\n",
        "\n",
        "train['PRI_NO_OF_ACCTS_bins'] = pd.cut(train['PRI_NO_OF_ACCTS'],\n",
        "                              bins=cut_bins,\n",
        "                              labels=bin_labels)"
      ],
      "metadata": {
        "id": "PzgJnEjdutHX"
      },
      "execution_count": null,
      "outputs": []
    },
    {
      "cell_type": "code",
      "source": [
        "bin_labels = [\"None\",'One (or more)']\n",
        "cut_bins = [-1,0, 1000]\n",
        "\n",
        "train['PRI_OVERDUE_ACCTS_bins'] = pd.cut(train['PRI_OVERDUE_ACCTS'],\n",
        "                              bins=cut_bins,\n",
        "                              labels=bin_labels)"
      ],
      "metadata": {
        "id": "nR9vGSOEuyps"
      },
      "execution_count": null,
      "outputs": []
    },
    {
      "cell_type": "markdown",
      "source": [
        "# Outlier Transformation"
      ],
      "metadata": {
        "id": "57IqtAxjcJ3I"
      }
    },
    {
      "cell_type": "code",
      "source": [
        "def outlier_trans(x:float):\n",
        "    if x <= lower:\n",
        "        return(data_mean)\n",
        "    elif x>= (upper):\n",
        "        return(data_mean)\n",
        "    else:\n",
        "        return(x)\n",
        "train[\"DISBURSED_AMOUNT_new\"] = train[\"DISBURSED_AMOUNT\"].apply(outlier_trans)"
      ],
      "metadata": {
        "id": "cL_DtrePcEPU"
      },
      "execution_count": null,
      "outputs": []
    },
    {
      "cell_type": "code",
      "source": [
        "train[\"ASSET_COST_new\"]= train[\"ASSET_COST\"].apply(outlier_trans)\n",
        "train[\"LTV_new\"]= train[\"LTV\"].apply(outlier_trans)\n",
        "train[\"PRI_NO_OF_ACCTS_new\"]= train[\"PRI_NO_OF_ACCTS\"].apply(outlier_trans)\n",
        "train[\"PRI_OVERDUE_ACCTS_new\"]= train[\"PRI_OVERDUE_ACCTS\"].apply(outlier_trans)"
      ],
      "metadata": {
        "id": "Rv47M8fkcFuJ"
      },
      "execution_count": null,
      "outputs": []
    },
    {
      "cell_type": "markdown",
      "source": [
        "Add age as a single feature"
      ],
      "metadata": {
        "id": "PgOZGCHBqEfR"
      }
    },
    {
      "cell_type": "code",
      "source": [
        "now = pd.Timestamp('now')\n",
        "train['age'] = (now - train['DATE_OF_BIRTH'])  \n",
        "\n",
        "train['age']= train['age'].astype(str)\n",
        "train[['age','age_waste']] = train['age'].str.split(\"days\",expand=True)\n",
        "train['age']= train['age'].astype(str).astype(int)\n",
        "train= train.drop(columns= ['age_waste'])"
      ],
      "metadata": {
        "colab": {
          "base_uri": "https://localhost:8080/"
        },
        "id": "u7gxCfhCqFHJ",
        "outputId": "2f567f88-ca8e-44b5-aa9c-0da9c3fa778a"
      },
      "execution_count": null,
      "outputs": [
        {
          "output_type": "stream",
          "name": "stdout",
          "text": [
            "0    14270\n",
            "1    13693\n",
            "2    13669\n",
            "3    10619\n",
            "4    16484\n",
            "Name: age, dtype: int64\n"
          ]
        }
      ]
    },
    {
      "cell_type": "markdown",
      "source": [
        "Add time of disbursal as a single feature"
      ],
      "metadata": {
        "id": "G-I6irXZcUa9"
      }
    },
    {
      "cell_type": "code",
      "source": [
        "train['disbursal_time'] = (now - train['DISBURSAL_DATE'])  \n",
        "\n",
        "train['disbursal_time']= train['disbursal_time'].astype(str)\n",
        "train[['disbursal_time','disbursal_time_waste']] = train['disbursal_time'].str.split(\"days\",expand=True)\n",
        "train['disbursal_time']= train['disbursal_time'].astype(str).astype(int)\n",
        "train= train.drop(columns= ['disbursal_time_waste'])"
      ],
      "metadata": {
        "colab": {
          "base_uri": "https://localhost:8080/"
        },
        "id": "xl-34VUCqNUp",
        "outputId": "44b6be72-069b-4900-8d75-8687658fa8a4"
      },
      "execution_count": null,
      "outputs": [
        {
          "output_type": "stream",
          "name": "stdout",
          "text": [
            "0    1637\n",
            "1    1583\n",
            "2    1639\n",
            "3    1553\n",
            "4    1583\n",
            "Name: disbursal_time, dtype: int64\n"
          ]
        }
      ]
    },
    {
      "cell_type": "markdown",
      "source": [
        "# Feature Selection"
      ],
      "metadata": {
        "id": "3rm72_jvcaEV"
      }
    },
    {
      "cell_type": "markdown",
      "source": [
        "Drop usless features (id's)"
      ],
      "metadata": {
        "id": "-Jx34vo9cb9N"
      }
    },
    {
      "cell_type": "code",
      "source": [
        "train = train.drop([ 'DATE_OF_BIRTH' , 'STATE_ID', 'EMPLOYEE_CODE_ID', 'SUPPLIER_ID', 'MANUFACTURER_ID', 'CURRENT_PINCODE_ID','BRANCH_ID'],axis=1)"
      ],
      "metadata": {
        "id": "oVpi0TfXqgGx"
      },
      "execution_count": null,
      "outputs": []
    },
    {
      "cell_type": "markdown",
      "source": [
        "split on continuous and categorical variables."
      ],
      "metadata": {
        "id": "PphYZb2acmK7"
      }
    },
    {
      "cell_type": "code",
      "source": [
        "train_con = train[['EMPLOYMENT_TYPE', 'MOBILENO_AVL_FLAG', 'AADHAR_FLAG', 'PAN_FLAG', 'VOTERID_FLAG',\n",
        "                   'DRIVING_FLAG', 'PASSPORT_FLAG', 'PERFORM_CNS_SCORE', 'PERFORM_CNS_SCORE_DESCRIPTION', \n",
        "                   'PRI_ACTIVE_ACCTS', 'PRI_CURRENT_BALANCE', 'PRI_DISBURSED_AMOUNT', 'SEC_NO_OF_ACCTS', \n",
        "                   'SEC_OVERDUE_ACCTS', 'SEC_CURRENT_BALANCE', 'PRIMARY_INSTAL_AMT', 'SEC_INSTAL_AMT', \n",
        "                   'DELINQUENT_ACCTS_IN_LAST_SIX_MONTHS', 'CREDIT_HISTORY_LENGTH', 'NO_OF_INQUIRIES',\n",
        "                   'LOAN_DEFAULT', 'DISBURSED_AMOUNT_new', 'ASSET_COST_new', \n",
        "                   'LTV_new', 'age', 'disbursal_time']]"
      ],
      "metadata": {
        "id": "YlEpnf2Pq4v1"
      },
      "execution_count": null,
      "outputs": []
    },
    {
      "cell_type": "code",
      "source": [
        "train_cat = train[['UNIQUEID', 'EMPLOYMENT_TYPE', 'MOBILENO_AVL_FLAG', 'AADHAR_FLAG', 'PAN_FLAG', \n",
        "                    'VOTERID_FLAG', 'DRIVING_FLAG', 'PASSPORT_FLAG', 'PERFORM_CNS_SCORE', \n",
        "                    'PERFORM_CNS_SCORE_DESCRIPTION', 'PRI_ACTIVE_ACCTS', 'PRI_CURRENT_BALANCE',\n",
        "                    'PRI_DISBURSED_AMOUNT', 'SEC_NO_OF_ACCTS', 'SEC_OVERDUE_ACCTS', 'SEC_CURRENT_BALANCE',\n",
        "                    'PRIMARY_INSTAL_AMT', 'SEC_INSTAL_AMT', 'DELINQUENT_ACCTS_IN_LAST_SIX_MONTHS', \n",
        "                    'CREDIT_HISTORY_LENGTH', 'NO_OF_INQUIRIES', 'LOAN_DEFAULT',\n",
        "                    'DISBURSED_AMOUNT_bins', 'ASSET_COST_bins', 'LTV_bins',\n",
        "                    'PERFORM_CNS_SCORE_bins', 'PRI_NO_OF_ACCTS_bins', 'PRI_OVERDUE_ACCTS_bins', 'age', 'disbursal_time']]"
      ],
      "metadata": {
        "id": "m6r9r6uwq6a8"
      },
      "execution_count": null,
      "outputs": []
    },
    {
      "cell_type": "markdown",
      "source": [
        "data scaling"
      ],
      "metadata": {
        "id": "H43rSmnSc5UP"
      }
    },
    {
      "cell_type": "code",
      "source": [
        "scaler = StandardScaler() \n",
        "\n",
        "def scaling(df:pd.DataFrame, cols_to_scale:pd.Series):\n",
        "\n",
        "    for col in cols_to_scale:\n",
        "\n",
        "        df[col] = pd.DataFrame(scaler.fit_transform(pd.DataFrame(train_con[col])),columns=[col])\n",
        "\n",
        "    return df"
      ],
      "metadata": {
        "id": "aXHDJ42urAOt"
      },
      "execution_count": null,
      "outputs": []
    },
    {
      "cell_type": "code",
      "source": [
        "scaled_df = scaleColumns(train_con,['PERFORM_CNS_SCORE','PRI_ACTIVE_ACCTS', 'PRI_CURRENT_BALANCE', \n",
        "                                 'PRI_DISBURSED_AMOUNT', 'SEC_NO_OF_ACCTS', 'SEC_OVERDUE_ACCTS', \n",
        "                                 'SEC_CURRENT_BALANCE', 'PRIMARY_INSTAL_AMT', 'SEC_INSTAL_AMT',\n",
        "                                 'DELINQUENT_ACCTS_IN_LAST_SIX_MONTHS', 'CREDIT_HISTORY_LENGTH', \n",
        "                                 'NO_OF_INQUIRIES', 'DISBURSED_AMOUNT_new',\n",
        "                                 'ASSET_COST_new', 'LTV_new', 'age', 'disbursal_time'])\n",
        "\n",
        "scaled_df.head()"
      ],
      "metadata": {
        "colab": {
          "base_uri": "https://localhost:8080/",
          "height": 357
        },
        "id": "V34YrcIfrDHc",
        "outputId": "5f0917a0-7c27-498d-cde2-7de843d5903d"
      },
      "execution_count": null,
      "outputs": [
        {
          "output_type": "execute_result",
          "data": {
            "text/plain": [
              "  EMPLOYMENT_TYPE  MOBILENO_AVL_FLAG  AADHAR_FLAG  PAN_FLAG  VOTERID_FLAG  DRIVING_FLAG  PASSPORT_FLAG  PERFORM_CNS_SCORE PERFORM_CNS_SCORE_DESCRIPTION  PRI_ACTIVE_ACCTS  PRI_CURRENT_BALANCE  PRI_DISBURSED_AMOUNT  SEC_NO_OF_ACCTS  SEC_OVERDUE_ACCTS  SEC_CURRENT_BALANCE  PRIMARY_INSTAL_AMT  SEC_INSTAL_AMT  DELINQUENT_ACCTS_IN_LAST_SIX_MONTHS  CREDIT_HISTORY_LENGTH  NO_OF_INQUIRIES  LOAN_DEFAULT  DISBURSED_AMOUNT_new  ASSET_COST_new       LTV_new       age  disbursal_time\n",
              "0        Salaried                  1            1         0             0             0              0          -0.855453   No Bureau History Available         -0.535617            -0.176064             -0.091711        -0.094259          -0.065216            -0.031884           -0.086581       -0.020784                            -0.253566              -0.568640        -0.292450             0             -0.282591       -1.002057 -3.637979e-11  0.026250        1.880044\n",
              "1   Self employed                  1            1         0             0             0              0           0.911822                 I-Medium Risk         -0.020549            -0.146773             -0.070599        -0.094259          -0.065216            -0.031884           -0.073427       -0.020784                             2.347632               0.236085        -0.292450             1             -0.589728       -0.257144 -3.637979e-11 -0.134554       -0.094516\n",
              "2   Self employed                  1            1         0             0             0              0          -0.855453   No Bureau History Available         -0.535617            -0.176064             -0.091711        -0.094259          -0.065216            -0.031884           -0.086581       -0.020784                            -0.253566              -0.568640        -0.292450             0             -0.041033       -0.693673 -3.637979e-11 -0.141243        1.953176\n",
              "3   Self employed                  1            1         0             0             0              0           0.045917              L-Very High Risk         -0.535617            -0.176064             -0.091711        -0.094259          -0.065216            -0.031884           -0.086376       -0.020784                            -0.253566              -0.043819         1.122986             1              0.337856       -0.198489 -3.637979e-11 -0.991244       -1.191493\n",
              "4   Self employed                  1            1         0             0             0              0          -0.855453   No Bureau History Available         -0.535617            -0.176064             -0.091711        -0.094259          -0.065216            -0.031884           -0.086581       -0.020784                            -0.253566              -0.568640         1.122986             1             -0.121552       -0.804108 -3.637979e-11  0.643267       -0.094516"
            ],
            "text/html": [
              "\n",
              "  <div id=\"df-90898fad-f337-477b-954e-31f6d8042b7c\">\n",
              "    <div class=\"colab-df-container\">\n",
              "      <div>\n",
              "<style scoped>\n",
              "    .dataframe tbody tr th:only-of-type {\n",
              "        vertical-align: middle;\n",
              "    }\n",
              "\n",
              "    .dataframe tbody tr th {\n",
              "        vertical-align: top;\n",
              "    }\n",
              "\n",
              "    .dataframe thead th {\n",
              "        text-align: right;\n",
              "    }\n",
              "</style>\n",
              "<table border=\"1\" class=\"dataframe\">\n",
              "  <thead>\n",
              "    <tr style=\"text-align: right;\">\n",
              "      <th></th>\n",
              "      <th>EMPLOYMENT_TYPE</th>\n",
              "      <th>MOBILENO_AVL_FLAG</th>\n",
              "      <th>AADHAR_FLAG</th>\n",
              "      <th>PAN_FLAG</th>\n",
              "      <th>VOTERID_FLAG</th>\n",
              "      <th>DRIVING_FLAG</th>\n",
              "      <th>PASSPORT_FLAG</th>\n",
              "      <th>PERFORM_CNS_SCORE</th>\n",
              "      <th>PERFORM_CNS_SCORE_DESCRIPTION</th>\n",
              "      <th>PRI_ACTIVE_ACCTS</th>\n",
              "      <th>PRI_CURRENT_BALANCE</th>\n",
              "      <th>PRI_DISBURSED_AMOUNT</th>\n",
              "      <th>SEC_NO_OF_ACCTS</th>\n",
              "      <th>SEC_OVERDUE_ACCTS</th>\n",
              "      <th>SEC_CURRENT_BALANCE</th>\n",
              "      <th>PRIMARY_INSTAL_AMT</th>\n",
              "      <th>SEC_INSTAL_AMT</th>\n",
              "      <th>DELINQUENT_ACCTS_IN_LAST_SIX_MONTHS</th>\n",
              "      <th>CREDIT_HISTORY_LENGTH</th>\n",
              "      <th>NO_OF_INQUIRIES</th>\n",
              "      <th>LOAN_DEFAULT</th>\n",
              "      <th>DISBURSED_AMOUNT_new</th>\n",
              "      <th>ASSET_COST_new</th>\n",
              "      <th>LTV_new</th>\n",
              "      <th>age</th>\n",
              "      <th>disbursal_time</th>\n",
              "    </tr>\n",
              "  </thead>\n",
              "  <tbody>\n",
              "    <tr>\n",
              "      <th>0</th>\n",
              "      <td>Salaried</td>\n",
              "      <td>1</td>\n",
              "      <td>1</td>\n",
              "      <td>0</td>\n",
              "      <td>0</td>\n",
              "      <td>0</td>\n",
              "      <td>0</td>\n",
              "      <td>-0.855453</td>\n",
              "      <td>No Bureau History Available</td>\n",
              "      <td>-0.535617</td>\n",
              "      <td>-0.176064</td>\n",
              "      <td>-0.091711</td>\n",
              "      <td>-0.094259</td>\n",
              "      <td>-0.065216</td>\n",
              "      <td>-0.031884</td>\n",
              "      <td>-0.086581</td>\n",
              "      <td>-0.020784</td>\n",
              "      <td>-0.253566</td>\n",
              "      <td>-0.568640</td>\n",
              "      <td>-0.292450</td>\n",
              "      <td>0</td>\n",
              "      <td>-0.282591</td>\n",
              "      <td>-1.002057</td>\n",
              "      <td>-3.637979e-11</td>\n",
              "      <td>0.026250</td>\n",
              "      <td>1.880044</td>\n",
              "    </tr>\n",
              "    <tr>\n",
              "      <th>1</th>\n",
              "      <td>Self employed</td>\n",
              "      <td>1</td>\n",
              "      <td>1</td>\n",
              "      <td>0</td>\n",
              "      <td>0</td>\n",
              "      <td>0</td>\n",
              "      <td>0</td>\n",
              "      <td>0.911822</td>\n",
              "      <td>I-Medium Risk</td>\n",
              "      <td>-0.020549</td>\n",
              "      <td>-0.146773</td>\n",
              "      <td>-0.070599</td>\n",
              "      <td>-0.094259</td>\n",
              "      <td>-0.065216</td>\n",
              "      <td>-0.031884</td>\n",
              "      <td>-0.073427</td>\n",
              "      <td>-0.020784</td>\n",
              "      <td>2.347632</td>\n",
              "      <td>0.236085</td>\n",
              "      <td>-0.292450</td>\n",
              "      <td>1</td>\n",
              "      <td>-0.589728</td>\n",
              "      <td>-0.257144</td>\n",
              "      <td>-3.637979e-11</td>\n",
              "      <td>-0.134554</td>\n",
              "      <td>-0.094516</td>\n",
              "    </tr>\n",
              "    <tr>\n",
              "      <th>2</th>\n",
              "      <td>Self employed</td>\n",
              "      <td>1</td>\n",
              "      <td>1</td>\n",
              "      <td>0</td>\n",
              "      <td>0</td>\n",
              "      <td>0</td>\n",
              "      <td>0</td>\n",
              "      <td>-0.855453</td>\n",
              "      <td>No Bureau History Available</td>\n",
              "      <td>-0.535617</td>\n",
              "      <td>-0.176064</td>\n",
              "      <td>-0.091711</td>\n",
              "      <td>-0.094259</td>\n",
              "      <td>-0.065216</td>\n",
              "      <td>-0.031884</td>\n",
              "      <td>-0.086581</td>\n",
              "      <td>-0.020784</td>\n",
              "      <td>-0.253566</td>\n",
              "      <td>-0.568640</td>\n",
              "      <td>-0.292450</td>\n",
              "      <td>0</td>\n",
              "      <td>-0.041033</td>\n",
              "      <td>-0.693673</td>\n",
              "      <td>-3.637979e-11</td>\n",
              "      <td>-0.141243</td>\n",
              "      <td>1.953176</td>\n",
              "    </tr>\n",
              "    <tr>\n",
              "      <th>3</th>\n",
              "      <td>Self employed</td>\n",
              "      <td>1</td>\n",
              "      <td>1</td>\n",
              "      <td>0</td>\n",
              "      <td>0</td>\n",
              "      <td>0</td>\n",
              "      <td>0</td>\n",
              "      <td>0.045917</td>\n",
              "      <td>L-Very High Risk</td>\n",
              "      <td>-0.535617</td>\n",
              "      <td>-0.176064</td>\n",
              "      <td>-0.091711</td>\n",
              "      <td>-0.094259</td>\n",
              "      <td>-0.065216</td>\n",
              "      <td>-0.031884</td>\n",
              "      <td>-0.086376</td>\n",
              "      <td>-0.020784</td>\n",
              "      <td>-0.253566</td>\n",
              "      <td>-0.043819</td>\n",
              "      <td>1.122986</td>\n",
              "      <td>1</td>\n",
              "      <td>0.337856</td>\n",
              "      <td>-0.198489</td>\n",
              "      <td>-3.637979e-11</td>\n",
              "      <td>-0.991244</td>\n",
              "      <td>-1.191493</td>\n",
              "    </tr>\n",
              "    <tr>\n",
              "      <th>4</th>\n",
              "      <td>Self employed</td>\n",
              "      <td>1</td>\n",
              "      <td>1</td>\n",
              "      <td>0</td>\n",
              "      <td>0</td>\n",
              "      <td>0</td>\n",
              "      <td>0</td>\n",
              "      <td>-0.855453</td>\n",
              "      <td>No Bureau History Available</td>\n",
              "      <td>-0.535617</td>\n",
              "      <td>-0.176064</td>\n",
              "      <td>-0.091711</td>\n",
              "      <td>-0.094259</td>\n",
              "      <td>-0.065216</td>\n",
              "      <td>-0.031884</td>\n",
              "      <td>-0.086581</td>\n",
              "      <td>-0.020784</td>\n",
              "      <td>-0.253566</td>\n",
              "      <td>-0.568640</td>\n",
              "      <td>1.122986</td>\n",
              "      <td>1</td>\n",
              "      <td>-0.121552</td>\n",
              "      <td>-0.804108</td>\n",
              "      <td>-3.637979e-11</td>\n",
              "      <td>0.643267</td>\n",
              "      <td>-0.094516</td>\n",
              "    </tr>\n",
              "  </tbody>\n",
              "</table>\n",
              "</div>\n",
              "      <button class=\"colab-df-convert\" onclick=\"convertToInteractive('df-90898fad-f337-477b-954e-31f6d8042b7c')\"\n",
              "              title=\"Convert this dataframe to an interactive table.\"\n",
              "              style=\"display:none;\">\n",
              "        \n",
              "  <svg xmlns=\"http://www.w3.org/2000/svg\" height=\"24px\"viewBox=\"0 0 24 24\"\n",
              "       width=\"24px\">\n",
              "    <path d=\"M0 0h24v24H0V0z\" fill=\"none\"/>\n",
              "    <path d=\"M18.56 5.44l.94 2.06.94-2.06 2.06-.94-2.06-.94-.94-2.06-.94 2.06-2.06.94zm-11 1L8.5 8.5l.94-2.06 2.06-.94-2.06-.94L8.5 2.5l-.94 2.06-2.06.94zm10 10l.94 2.06.94-2.06 2.06-.94-2.06-.94-.94-2.06-.94 2.06-2.06.94z\"/><path d=\"M17.41 7.96l-1.37-1.37c-.4-.4-.92-.59-1.43-.59-.52 0-1.04.2-1.43.59L10.3 9.45l-7.72 7.72c-.78.78-.78 2.05 0 2.83L4 21.41c.39.39.9.59 1.41.59.51 0 1.02-.2 1.41-.59l7.78-7.78 2.81-2.81c.8-.78.8-2.07 0-2.86zM5.41 20L4 18.59l7.72-7.72 1.47 1.35L5.41 20z\"/>\n",
              "  </svg>\n",
              "      </button>\n",
              "      \n",
              "  <style>\n",
              "    .colab-df-container {\n",
              "      display:flex;\n",
              "      flex-wrap:wrap;\n",
              "      gap: 12px;\n",
              "    }\n",
              "\n",
              "    .colab-df-convert {\n",
              "      background-color: #E8F0FE;\n",
              "      border: none;\n",
              "      border-radius: 50%;\n",
              "      cursor: pointer;\n",
              "      display: none;\n",
              "      fill: #1967D2;\n",
              "      height: 32px;\n",
              "      padding: 0 0 0 0;\n",
              "      width: 32px;\n",
              "    }\n",
              "\n",
              "    .colab-df-convert:hover {\n",
              "      background-color: #E2EBFA;\n",
              "      box-shadow: 0px 1px 2px rgba(60, 64, 67, 0.3), 0px 1px 3px 1px rgba(60, 64, 67, 0.15);\n",
              "      fill: #174EA6;\n",
              "    }\n",
              "\n",
              "    [theme=dark] .colab-df-convert {\n",
              "      background-color: #3B4455;\n",
              "      fill: #D2E3FC;\n",
              "    }\n",
              "\n",
              "    [theme=dark] .colab-df-convert:hover {\n",
              "      background-color: #434B5C;\n",
              "      box-shadow: 0px 1px 3px 1px rgba(0, 0, 0, 0.15);\n",
              "      filter: drop-shadow(0px 1px 2px rgba(0, 0, 0, 0.3));\n",
              "      fill: #FFFFFF;\n",
              "    }\n",
              "  </style>\n",
              "\n",
              "      <script>\n",
              "        const buttonEl =\n",
              "          document.querySelector('#df-90898fad-f337-477b-954e-31f6d8042b7c button.colab-df-convert');\n",
              "        buttonEl.style.display =\n",
              "          google.colab.kernel.accessAllowed ? 'block' : 'none';\n",
              "\n",
              "        async function convertToInteractive(key) {\n",
              "          const element = document.querySelector('#df-90898fad-f337-477b-954e-31f6d8042b7c');\n",
              "          const dataTable =\n",
              "            await google.colab.kernel.invokeFunction('convertToInteractive',\n",
              "                                                     [key], {});\n",
              "          if (!dataTable) return;\n",
              "\n",
              "          const docLinkHtml = 'Like what you see? Visit the ' +\n",
              "            '<a target=\"_blank\" href=https://colab.research.google.com/notebooks/data_table.ipynb>data table notebook</a>'\n",
              "            + ' to learn more about interactive tables.';\n",
              "          element.innerHTML = '';\n",
              "          dataTable['output_type'] = 'display_data';\n",
              "          await google.colab.output.renderOutput(dataTable, element);\n",
              "          const docLink = document.createElement('div');\n",
              "          docLink.innerHTML = docLinkHtml;\n",
              "          element.appendChild(docLink);\n",
              "        }\n",
              "      </script>\n",
              "    </div>\n",
              "  </div>\n",
              "  "
            ]
          },
          "metadata": {},
          "execution_count": 188
        }
      ]
    },
    {
      "cell_type": "markdown",
      "source": [
        "get dummies - transform dummies"
      ],
      "metadata": {
        "id": "4BTiXTHtc71Q"
      }
    },
    {
      "cell_type": "code",
      "source": [
        "train_dummy = pd.get_dummies(scaled_df, prefix_sep='_', drop_first=True)\n",
        "train_dummy.head()\n",
        "\n",
        "y = train_dummy[['LOAN_DEFAULT']]\n",
        "X = train_dummy.loc[:, train_dummy.columns != 'LOAN_DEFAULT']"
      ],
      "metadata": {
        "id": "aILm9HrDrZ1Q"
      },
      "execution_count": null,
      "outputs": []
    },
    {
      "cell_type": "code",
      "source": [
        "X_train, X_test, y_train, y_test = train_test_split(X, y, test_size = 0.2)\n",
        "k_fold = KFold(n_splits=10, shuffle=True, random_state=0)"
      ],
      "metadata": {
        "id": "ZDkTOjTbrgxw"
      },
      "execution_count": null,
      "outputs": []
    },
    {
      "cell_type": "markdown",
      "source": [
        "# MODELS"
      ],
      "metadata": {
        "id": "EKQ3KMHJd7pP"
      }
    },
    {
      "cell_type": "markdown",
      "source": [
        "Random Forests"
      ],
      "metadata": {
        "id": "1n4Q1dutd-Du"
      }
    },
    {
      "cell_type": "code",
      "source": [
        "# fitting\n",
        "rf = RandomForestClassifier(n_estimators=10).fit(X_train, y_train)\n",
        "\n",
        "# predicting\n",
        "rf_pred = rf.predict(X_test)\n",
        "best_acc_rf = (cross_val_score(rf, X_train, y_train, cv=k_fold, n_jobs=1, scoring = 'accuracy').mean())\n",
        "print(\"Balanced Accuracy Score \",balanced_accuracy_score(y_test, rf_pred))\n",
        "print(\"Best Accuracy Score \",best_acc_rf))"
      ],
      "metadata": {
        "colab": {
          "base_uri": "https://localhost:8080/"
        },
        "id": "_OwwGaNxrjew",
        "outputId": "384f9b41-8603-47a5-ca3c-1d8980c792d6"
      },
      "execution_count": null,
      "outputs": [
        {
          "output_type": "stream",
          "name": "stdout",
          "text": [
            "[[35090  1415]\n",
            " [ 9439   687]]\n",
            "77.0\n"
          ]
        }
      ]
    },
    {
      "cell_type": "markdown",
      "source": [
        "XGBoost"
      ],
      "metadata": {
        "id": "LHxuMIPReANT"
      }
    },
    {
      "cell_type": "code",
      "source": [
        "# fitting\n",
        "xgb_cls = xgb.XGBClassifier(n_estimators=10).fit(X_train, y_train)\n",
        "\n",
        "# predicting\n",
        "xgb_pred = xgb_cls.predict(X_test)\n",
        "best_acc_xgb = (cross_val_score(xgb_cls, X_train, y_train, cv=k_fold, n_jobs=1, scoring = 'accuracy').mean())\n",
        "print(\"Balanced Accuracy Score \",balanced_accuracy_score(y_test, xgb_pred))\n",
        "print(\"Best Accuracy Score \",best_acc_xgb))"
      ],
      "metadata": {
        "id": "OY0Bzk7Nr--9"
      },
      "execution_count": null,
      "outputs": []
    },
    {
      "cell_type": "markdown",
      "source": [
        "LightGBM"
      ],
      "metadata": {
        "id": "GBEtQzK7ebPT"
      }
    },
    {
      "cell_type": "code",
      "source": [
        "# fitting\n",
        "lgb_cls = lgb.LGBMClassifier(n_estimators=10).fit(X_train, y_train)\n",
        "\n",
        "# predicting\n",
        "lgb_pred = lgb_cls.predict(X_test)\n",
        "best_acc_lgb = (cross_val_score(lgb_cls, X_train, y_train, cv=k_fold, n_jobs=1, scoring = 'accuracy').mean())\n",
        "print(\"Balanced Accuracy Score \",balanced_accuracy_score(y_test, lgb_pred))\n",
        "print(\"Best Accuracy Score \",best_acc_lgb))"
      ],
      "metadata": {
        "id": "XZhu4RiiecrP"
      },
      "execution_count": null,
      "outputs": []
    },
    {
      "cell_type": "markdown",
      "source": [
        "# Save best model to a pickle format"
      ],
      "metadata": {
        "id": "er5dhrHpeehA"
      }
    },
    {
      "cell_type": "code",
      "source": [
        "import pickle\n",
        "pickle.dump(rfc, open('manou_model_2.pkl', 'wb'))"
      ],
      "metadata": {
        "id": "xtkmPIFfwWJU"
      },
      "execution_count": null,
      "outputs": []
    }
  ]
}